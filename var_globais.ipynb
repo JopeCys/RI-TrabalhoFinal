{
 "cells": [
  {
   "cell_type": "markdown",
   "id": "24bd90b4",
   "metadata": {},
   "source": [
    "\n",
    "Variável global"
   ]
  },
  {
   "cell_type": "code",
   "execution_count": null,
   "id": "df6e591b",
   "metadata": {},
   "outputs": [
    {
     "name": "stdout",
     "output_type": "stream",
     "text": [
      "Stored 'id_consulta' (str)\n"
     ]
    }
   ],
   "source": [
    "id_consulta = \"3\"\n",
    "\n",
    "%store id_consulta"
   ]
  }
 ],
 "metadata": {
  "language_info": {
   "name": "python"
  }
 },
 "nbformat": 4,
 "nbformat_minor": 5
}
