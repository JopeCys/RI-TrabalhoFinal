{
 "cells": [
  {
   "cell_type": "markdown",
   "id": "d95c0d20",
   "metadata": {},
   "source": [
    "Variáveis Globais"
   ]
  },
  {
   "cell_type": "code",
   "execution_count": null,
   "id": "94b08aa4",
   "metadata": {},
   "outputs": [
    {
     "name": "stdout",
     "output_type": "stream",
     "text": [
      "Stored 'id_consulta' (str)\n"
     ]
    }
   ],
   "source": [
    "id_consulta = \"1\"\n",
    "\n",
    "%store id_consulta"
   ]
  }
 ],
 "metadata": {
  "kernelspec": {
   "display_name": "projeto_final_ri",
   "language": "python",
   "name": "python3"
  },
  "language_info": {
   "codemirror_mode": {
    "name": "ipython",
    "version": 3
   },
   "file_extension": ".py",
   "mimetype": "text/x-python",
   "name": "python",
   "nbconvert_exporter": "python",
   "pygments_lexer": "ipython3",
   "version": "3.12.8"
  }
 },
 "nbformat": 4,
 "nbformat_minor": 5
}
