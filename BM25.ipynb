{
 "cells": [
  {
   "cell_type": "markdown",
   "id": "c4c047ea",
   "metadata": {},
   "source": [
    "Imports"
   ]
  },
  {
   "cell_type": "code",
   "execution_count": 1,
   "id": "9d0c194e",
   "metadata": {},
   "outputs": [],
   "source": [
    "from rank_bm25 import BM25Okapi\n",
    "import json\n",
    "import numpy as np"
   ]
  },
  {
   "cell_type": "markdown",
   "id": "cc6bacd7",
   "metadata": {},
   "source": [
    "Carregando .jsons"
   ]
  },
  {
   "cell_type": "code",
   "execution_count": 2,
   "id": "6c79e9d9",
   "metadata": {},
   "outputs": [],
   "source": [
    "with open('map_documentos.json', 'r', encoding='utf-8') as f:\n",
    "    map_documentos = json.load(f)\n",
    "\n",
    "with open('map_consultas.json', 'r', encoding='utf-8') as f:\n",
    "    map_consultas = json.load(f)"
   ]
  },
  {
   "cell_type": "markdown",
   "id": "57c51051",
   "metadata": {},
   "source": [
    "Preparando o corpus tokenizado"
   ]
  },
  {
   "cell_type": "code",
   "execution_count": 3,
   "id": "9f96e7fe",
   "metadata": {},
   "outputs": [],
   "source": [
    "# Extrair os textos dos documentos\n",
    "documentos_texto = list(map_documentos.values())\n",
    "\n",
    "# Tokenizar cada documento\n",
    "corpus_tokenizado = [doc.lower().split() for doc in documentos_texto]\n",
    "\n",
    "# Guardar os IDs dos documentos na mesma ordem\n",
    "ids_documentos = list(map_documentos.keys())"
   ]
  },
  {
   "cell_type": "markdown",
   "id": "5eafd4c8",
   "metadata": {},
   "source": [
    "Indexar o Corpus com BM25"
   ]
  },
  {
   "cell_type": "code",
   "execution_count": 4,
   "id": "4d4d8372",
   "metadata": {},
   "outputs": [],
   "source": [
    "# Cria o objeto BM25 com o corpus tokenizado\n",
    "bm25 = BM25Okapi(corpus_tokenizado)"
   ]
  },
  {
   "cell_type": "markdown",
   "id": "ae33cb81",
   "metadata": {},
   "source": [
    "Função que retorna Top N documentos de uma consulta BM25"
   ]
  },
  {
   "cell_type": "code",
   "execution_count": 5,
   "id": "e832b716",
   "metadata": {},
   "outputs": [],
   "source": [
    "def obter_top_n_ids_bm25(bm25, consulta_tokenizada, n):\n",
    "    # 1. Calcula os scores para cada documento no corpus\n",
    "    doc_scores = bm25.get_scores(consulta_tokenizada)\n",
    "\n",
    "    # 2. Pega os índices dos scores em ordem decrescente de pontuação\n",
    "    top_n_indices = np.argsort(doc_scores)[::-1]\n",
    "\n",
    "    # 3. Retorna apenas os 'n' primeiros IDs da lista ordenada\n",
    "    return top_n_indices[:n].tolist()\n"
   ]
  },
  {
   "cell_type": "markdown",
   "id": "11110a2b",
   "metadata": {},
   "source": [
    "Executar consulta e gerar os resultados top 50"
   ]
  },
  {
   "cell_type": "code",
   "execution_count": null,
   "id": "617cfca7",
   "metadata": {},
   "outputs": [],
   "source": [
    "# Escolha uma consulta para testar\n",
    "id_consulta_exemplo = \"182\"\n",
    "texto_consulta_exemplo = map_consultas[id_consulta_exemplo]\n",
    "\n",
    "# Tokeniza a consulta\n",
    "consulta_tokenizada = texto_consulta_exemplo.lower().split()\n",
    "\n",
    "# Top 50 documentos mais relevantes para a consulta\n",
    "resultados_bm25 = obter_top_n_ids_bm25(bm25,consulta_tokenizada, 50)\n"
   ]
  },
  {
   "cell_type": "markdown",
   "id": "41e0c837",
   "metadata": {},
   "source": [
    "Salvando resultados_bm25 como .json"
   ]
  },
  {
   "cell_type": "code",
   "execution_count": 7,
   "id": "d42ab674",
   "metadata": {},
   "outputs": [],
   "source": [
    "with open('resultados_bm25.json', 'w', encoding='utf-8') as out_file_opened:\n",
    "    json.dump(\n",
    "        resultados_bm25,    # Dados a serem salvos\n",
    "        out_file_opened,    # Objeto do arquivo\n",
    "        indent=2,           # Indentação para melhorar legibilidade\n",
    "        ensure_ascii=False  # Permite caracteres não-ASCII\n",
    "    )"
   ]
  }
 ],
 "metadata": {
  "kernelspec": {
   "display_name": "projeto_final_ri",
   "language": "python",
   "name": "python3"
  },
  "language_info": {
   "codemirror_mode": {
    "name": "ipython",
    "version": 3
   },
   "file_extension": ".py",
   "mimetype": "text/x-python",
   "name": "python",
   "nbconvert_exporter": "python",
   "pygments_lexer": "ipython3",
   "version": "3.12.8"
  }
 },
 "nbformat": 4,
 "nbformat_minor": 5
}
