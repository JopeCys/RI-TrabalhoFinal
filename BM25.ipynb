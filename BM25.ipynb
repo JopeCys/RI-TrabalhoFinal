{
 "cells": [
  {
   "cell_type": "markdown",
   "id": "c4c047ea",
   "metadata": {},
   "source": [
    "Imports"
   ]
  },
  {
   "cell_type": "code",
   "execution_count": 559,
   "id": "9d0c194e",
   "metadata": {},
   "outputs": [],
   "source": [
    "from rank_bm25 import BM25Okapi\n",
    "import json\n",
    "import numpy as np"
   ]
  },
  {
   "cell_type": "markdown",
   "id": "b173c148",
   "metadata": {},
   "source": [
    "Carregar variáveis globais"
   ]
  },
  {
   "cell_type": "code",
   "execution_count": 560,
   "id": "aa0b9d5c",
   "metadata": {},
   "outputs": [],
   "source": [
    "%store -r id_consulta"
   ]
  },
  {
   "cell_type": "markdown",
   "id": "cc6bacd7",
   "metadata": {},
   "source": [
    "Carregando .jsons"
   ]
  },
  {
   "cell_type": "code",
   "execution_count": 561,
   "id": "6c79e9d9",
   "metadata": {},
   "outputs": [],
   "source": [
    "with open('map_documentos.json', 'r', encoding='utf-8') as f:\n",
    "    map_documentos = json.load(f)\n",
    "\n",
    "with open('map_consultas.json', 'r', encoding='utf-8') as f:\n",
    "    map_consultas = json.load(f)"
   ]
  },
  {
   "cell_type": "markdown",
   "id": "5eafd4c8",
   "metadata": {},
   "source": [
    "Indexar o map_documentos com BM25"
   ]
  },
  {
   "cell_type": "code",
   "execution_count": 562,
   "id": "4d4d8372",
   "metadata": {},
   "outputs": [],
   "source": [
    "# Crie uma lista com os textos dos documentos. A ordem será preservada.\n",
    "lista_de_documentos = list(map_documentos.values())\n",
    "\n",
    "# 3. Crie o corpus tokenizado a partir dessa lista\n",
    "#    (ASSUMINDO que você tokeniza por espaço em branco)\n",
    "corpus_tokenizado = [doc.split(\" \") for doc in lista_de_documentos]\n",
    "\n",
    "\n",
    "bm25 = BM25Okapi(corpus_tokenizado)"
   ]
  },
  {
   "cell_type": "markdown",
   "id": "ae33cb81",
   "metadata": {},
   "source": [
    "Função que retorna Top N documentos de uma consulta BM25"
   ]
  },
  {
   "cell_type": "code",
   "execution_count": 563,
   "id": "e832b716",
   "metadata": {},
   "outputs": [],
   "source": [
    "def obter_top_n_ids_bm25(bm25, consulta, n):\n",
    "    # 1. Calcula os scores para cada documento no corpus\n",
    "    doc_scores = bm25.get_scores(consulta)\n",
    "\n",
    "    # 2. Pega os índices dos scores em ordem decrescente de pontuação\n",
    "    top_n_indices = np.argsort(doc_scores)[::-1]\n",
    "\n",
    "    # 3. Retorna apenas os 'n' primeiros IDs da lista ordenada\n",
    "    return top_n_indices[:n].tolist()\n"
   ]
  },
  {
   "cell_type": "markdown",
   "id": "11110a2b",
   "metadata": {},
   "source": [
    "Executar consulta e gerar os resultados top 50"
   ]
  },
  {
   "cell_type": "code",
<<<<<<< HEAD
   "execution_count": 564,
=======
   "execution_count": null,
>>>>>>> 850bb72305ec7cae285a725b02f2b7dd97a04364
   "id": "617cfca7",
   "metadata": {},
   "outputs": [],
   "source": [
    "# Escolha uma consulta para testar\n",
    "consulta_texto = map_consultas[id_consulta]\n",
    "consulta_tokenizada = consulta_texto.split(\" \")\n",
    "\n",
    "# 6. Chame get_top_n, passando a LISTA de documentos originais (não o dicionário!)\n",
    "#    A função retornará os textos completos dos documentos mais relevantes.\n",
    "resultados_bm25 = obter_top_n_ids_bm25(bm25, consulta_tokenizada, n=50)\n",
    "\n"
   ]
  },
  {
   "cell_type": "markdown",
   "id": "41e0c837",
   "metadata": {},
   "source": [
    "Salvando resultados_bm25 como .json"
   ]
  },
  {
   "cell_type": "code",
   "execution_count": 565,
   "id": "d42ab674",
   "metadata": {},
   "outputs": [],
   "source": [
    "with open('resultados_bm25.json', 'w', encoding='utf-8') as out_file_opened:\n",
    "    json.dump(\n",
    "        resultados_bm25,    # Dados a serem salvos\n",
    "        out_file_opened,    # Objeto do arquivo\n",
    "        indent=2,           # Indentação para melhorar legibilidade\n",
    "        ensure_ascii=False  # Permite caracteres não-ASCII\n",
    "    )"
   ]
  }
 ],
 "metadata": {
  "kernelspec": {
   "display_name": "projeto_final_ri",
   "language": "python",
   "name": "python3"
  },
  "language_info": {
   "codemirror_mode": {
    "name": "ipython",
    "version": 3
   },
   "file_extension": ".py",
   "mimetype": "text/x-python",
   "name": "python",
   "nbconvert_exporter": "python",
   "pygments_lexer": "ipython3",
   "version": "3.12.8"
  }
 },
 "nbformat": 4,
 "nbformat_minor": 5
}
