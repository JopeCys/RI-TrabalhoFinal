{
 "cells": [
  {
   "cell_type": "markdown",
   "id": "1012cc0f",
   "metadata": {},
   "source": [
    "Imports"
   ]
  },
  {
   "cell_type": "code",
   "execution_count": 83,
   "id": "d5971ce7",
   "metadata": {},
   "outputs": [
    {
     "name": "stderr",
     "output_type": "stream",
     "text": [
      "[nltk_data] Downloading package stopwords to\n",
      "[nltk_data]     C:\\Users\\jopec\\AppData\\Roaming\\nltk_data...\n",
      "[nltk_data]   Package stopwords is already up-to-date!\n"
     ]
    }
   ],
   "source": [
    "import ir_datasets\n",
    "import logging\n",
    "import sys\n",
    "import json\n",
    "import nltk\n",
    "from nltk.corpus import stopwords\n",
    "from nltk.tokenize import word_tokenize\n",
    "from nltk.stem import RSLPStemmer\n",
    "nltk.download('stopwords')\n",
    "\n",
    "stop_words = set(stopwords.words('english'))"
   ]
  },
  {
   "cell_type": "markdown",
   "id": "09f5aaaf",
   "metadata": {},
   "source": [
    "Configurando LOGGER"
   ]
  },
  {
   "cell_type": "code",
   "execution_count": 84,
   "id": "70409a81",
   "metadata": {},
   "outputs": [],
   "source": [
    "logging.basicConfig(level=logging.INFO, stream=sys.stdout,\n",
    "                    format='[%(asctime)s]%(levelname)s(%(name)s): %(message)s')\n",
    "LOGGER = logging.getLogger(__name__)"
   ]
  },
  {
   "cell_type": "markdown",
   "id": "97c478b5",
   "metadata": {},
   "source": [
    "Importando dataset"
   ]
  },
  {
   "cell_type": "code",
   "execution_count": 85,
   "id": "cfccb70b",
   "metadata": {},
   "outputs": [],
   "source": [
    "dataset = ir_datasets.load(\"highwire/trec-genomics-2006\")"
   ]
  },
  {
   "cell_type": "markdown",
   "id": "346eadc4",
   "metadata": {},
   "source": [
    "Processando map_consultas"
   ]
  },
  {
   "cell_type": "code",
   "execution_count": 86,
   "id": "1bab14f1",
   "metadata": {},
   "outputs": [],
   "source": [
    "map_consultas = {}\n",
    "map_query_id_to_index = {}"
   ]
  },
  {
   "cell_type": "code",
   "execution_count": 87,
   "id": "50da8e6f",
   "metadata": {},
   "outputs": [
    {
     "name": "stdout",
     "output_type": "stream",
     "text": [
      "[2025-07-22 07:36:35,160]INFO(__main__): Processada consulta ID '160' para índice 0: role prnp mad cow disease\n",
      "[2025-07-22 07:36:35,161]INFO(__main__): Processada consulta ID '161' para índice 1: role ide alzheimer disease\n",
      "[2025-07-22 07:36:35,161]INFO(__main__): Processada consulta ID '162' para índice 2: role cancer\n",
      "[2025-07-22 07:36:35,162]INFO(__main__): Processada consulta ID '163' para índice 3: role apc adenomatous polyposis coli colon cancer\n",
      "[2025-07-22 07:36:35,162]INFO(__main__): Processada consulta ID '164' para índice 4: role parkinson disease\n",
      "[2025-07-22 07:36:35,163]INFO(__main__): Processada consulta ID '165' para índice 5: cathepsin ctsd apolipoprotein e apoe interactions contribute alzheimer disease\n",
      "[2025-07-22 07:36:35,163]INFO(__main__): Processada consulta ID '166' para índice 6: role transforming growth cerebral amyloid angiopathy caa\n",
      "[2025-07-22 07:36:35,164]INFO(__main__): Processada consulta ID '167' para índice 7: nucleoside diphosphate kinase contribute tumor progression\n",
      "[2025-07-22 07:36:35,165]INFO(__main__): Processada consulta ID '168' para índice 8: regulate activity\n",
      "[2025-07-22 07:36:35,166]INFO(__main__): Processada consulta ID '169' para índice 9: apc adenomatous polyposis coli protein affect actin assembly\n",
      "[2025-07-22 07:36:35,167]INFO(__main__): Processada consulta ID '170' para índice 10: contribute cftr export endoplasmic reticulum\n",
      "[2025-07-22 07:36:35,167]INFO(__main__): Processada consulta ID '171' para índice 11: delete cells migrate spleen lymph nodes impact autoimmunity\n",
      "[2025-07-22 07:36:35,168]INFO(__main__): Processada consulta ID '172' para índice 12: affect apoptosis\n",
      "[2025-07-22 07:36:35,169]INFO(__main__): Processada consulta ID '173' para índice 13: nicotinic receptor subunits affect ethanol metabolism\n",
      "[2025-07-22 07:36:35,170]INFO(__main__): Processada consulta ID '174' para índice 14: ubiquitinating activity contribute cancer\n",
      "[2025-07-22 07:36:35,171]INFO(__main__): Processada consulta ID '175' para índice 15: interact form viral capsids\n",
      "[2025-07-22 07:36:35,171]INFO(__main__): Processada consulta ID '176' para índice 16: cftr degradation contribute cystic fibrosis\n",
      "[2025-07-22 07:36:35,172]INFO(__main__): Processada consulta ID '177' para índice 17: interactions affect cell growth\n",
      "[2025-07-22 07:36:35,172]INFO(__main__): Processada consulta ID '178' para índice 18: interactions gfs insulin receptor affect skin biology\n",
      "[2025-07-22 07:36:35,173]INFO(__main__): Processada consulta ID '179' para índice 19: interactions suppress liver function\n",
      "[2025-07-22 07:36:35,173]INFO(__main__): Processada consulta ID '180' para índice 20: interactions affect liver development\n",
      "[2025-07-22 07:36:35,174]INFO(__main__): Processada consulta ID '181' para índice 21: mutations huntingtin gene affect huntington disease\n",
      "[2025-07-22 07:36:35,174]INFO(__main__): Processada consulta ID '182' para índice 22: mutations sonic hedgehog genes affect developmental disorders\n",
      "[2025-07-22 07:36:35,175]INFO(__main__): Processada consulta ID '183' para índice 23: mutations gene affect tracheal development\n",
      "[2025-07-22 07:36:35,175]INFO(__main__): Processada consulta ID '184' para índice 24: mutations pes gene affect cell growth\n",
      "[2025-07-22 07:36:35,176]INFO(__main__): Processada consulta ID '185' para índice 25: mutations hypocretin receptor gene affect narcolepsy\n",
      "[2025-07-22 07:36:35,177]INFO(__main__): Processada consulta ID '186' para índice 26: mutations gene affect alzheimer disease\n",
      "[2025-07-22 07:36:35,178]INFO(__main__): Processada consulta ID '187' para índice 27: mutations familial hemiplegic migraine type gene affect calcium ion influx hippocampal neurons\n"
     ]
    }
   ],
   "source": [
    "i = 0\n",
    "for query in dataset.queries_iter():\n",
    "    # Mapeia o ID original da consulta (string) para o nosso índice numérico (i)\n",
    "    # Ex: map_query_id_to_index['q1'] = 0\n",
    "    map_query_id_to_index[query.query_id] = i\n",
    "\n",
    "    # Processa o texto da consulta\n",
    "    text = query.text\n",
    "    processed_text = word_tokenize(text.lower())\n",
    "    processed_text = ' '.join([word for word in processed_text if word.isalpha() and word not in stop_words])\n",
    "    \n",
    "    # Armazena a consulta processada usando o índice numérico como chave\n",
    "    # Ex: map_consultas[0] = \"texto processado da consulta q1\"\n",
    "    map_consultas[i] = processed_text\n",
    "\n",
    "    LOGGER.info(f\"Processada consulta ID '{query.query_id}' para índice {i}: {processed_text}\")\n",
    "    \n",
    "    i += 1"
   ]
  },
  {
   "cell_type": "markdown",
   "id": "61086ee6",
   "metadata": {},
   "source": [
    "Salvando map_consultas como .json"
   ]
  },
  {
   "cell_type": "code",
   "execution_count": 88,
   "id": "2104c4b2",
   "metadata": {},
   "outputs": [],
   "source": [
    "with open('map_consultas.json', 'w', encoding='utf-8') as out_file_opened:\n",
    "    json.dump(\n",
    "        map_consultas,      # Dicionário de consultas processadas\n",
    "        out_file_opened,    # Objeto do arquivo\n",
    "        indent=2,           # Indentação para melhorar legibilidade\n",
    "        ensure_ascii=False  # Permite caracteres não-ASCII\n",
    "    )"
   ]
  },
  {
   "cell_type": "markdown",
   "id": "4e47d61f",
   "metadata": {},
   "source": [
    "Processando map_documentos"
   ]
  },
  {
   "cell_type": "code",
   "execution_count": 89,
   "id": "696b0f05",
   "metadata": {},
   "outputs": [],
   "source": [
    "map_documentos = {}\n",
    "map_index = {}"
   ]
  },
  {
   "cell_type": "code",
   "execution_count": null,
   "id": "ecaf6050",
   "metadata": {},
   "outputs": [],
   "source": [
    "i = 0\n",
    "for doc in dataset.docs_iter():\n",
    "    fields_to_join = [\n",
    "        doc.title,\n",
    "        doc.journal\n",
    "    ]\n",
    "    \n",
    "    # Junta todos os campos selecionados em uma única string, ignorando campos vazios (None)\n",
    "    text = ' '.join(str(field) for field in fields_to_join if field)\n",
    "    \n",
    "    # Converte para minúsculas e tokeniza o texto\n",
    "    processed_text_tokens = word_tokenize(text.lower())\n",
    "    \n",
    "    # Remove stopwords e palavras que não são puramente alfabéticas\n",
    "    cleaned_tokens = [word for word in processed_text_tokens if word.isalpha() and word not in stop_words]\n",
    "    \n",
    "    # Junta os tokens limpos de volta em uma única string\n",
    "    processed_text = ' '.join(cleaned_tokens)\n",
    "    \n",
    "    # Adiciona o documento processado ao dicionário, usando o novo índice 'i' como chave\n",
    "    map_documentos[i] = processed_text\n",
    "    \n",
    "    # Esta linha continua útil para mapear o ID antigo para o novo\n",
    "    map_index[doc.doc_id] = i\n",
    "    \n",
    "    i += 1\n",
    "    "
   ]
  },
  {
   "cell_type": "markdown",
   "id": "9174486b",
   "metadata": {},
   "source": [
    "Salvando map_documentos como .json"
   ]
  },
  {
   "cell_type": "code",
   "execution_count": 91,
   "id": "ddce1e93",
   "metadata": {},
   "outputs": [],
   "source": [
    "with open('map_documentos.json', 'w', encoding='utf-8') as out_file_opened:\n",
    "    json.dump(\n",
    "        map_documentos,     # Dicionário de documentos processados\n",
    "        out_file_opened,    # Objeto do arquivo\n",
    "        indent=2,           # Indentação para melhorar legibilidade\n",
    "        ensure_ascii=False  # Permite caracteres não-ASCII\n",
    "    )"
   ]
  },
  {
   "cell_type": "markdown",
   "id": "9536ff36",
   "metadata": {},
   "source": [
    "Processando map_consultas_relevancias"
   ]
  },
  {
   "cell_type": "code",
   "execution_count": 92,
   "id": "e4eaf77c",
   "metadata": {},
   "outputs": [],
   "source": [
    "map_consultas_relevancias = {}"
   ]
  },
  {
   "cell_type": "code",
   "execution_count": 93,
   "id": "d346757e",
   "metadata": {},
   "outputs": [],
   "source": [
    "for qrel in dataset.qrels_iter():\n",
    "    # 1. Procura o ID original do documento (qrel.doc_id) no seu mapa de documentos.\n",
    "    #    Isso retorna o índice numérico do documento (ex: 42).\n",
    "    doc_index = map_index.get(qrel.doc_id)\n",
    "\n",
    "    # 2. Procura o ID original da consulta (qrel.query_id) no nosso novo mapa.\n",
    "    #    Isso retorna o índice numérico da consulta (ex: 0).\n",
    "    query_index = map_query_id_to_index.get(qrel.query_id)\n",
    "\n",
    "    # 3. Executa o bloco somente se AMBOS, o documento e a consulta, existirem em nossos mapas.\n",
    "    if doc_index is not None and query_index is not None:\n",
    "        \n",
    "        # 4. Garante que a consulta (pelo seu índice numérico) tenha uma entrada no dicionário.\n",
    "        #    Se for a primeira vez que vemos a consulta de índice '0', cria um dicionário vazio para ela.\n",
    "        if query_index not in map_consultas_relevancias:\n",
    "            map_consultas_relevancias[query_index] = {}\n",
    "\n",
    "        # 5. Armazena a pontuação de relevância usando os índices numéricos.\n",
    "        #    A estrutura final será: map_consultas_relevancias[0][42] = 1.0\n",
    "        map_consultas_relevancias[query_index][doc_index] = qrel.relevance\n"
   ]
  },
  {
   "cell_type": "markdown",
   "id": "1c89c268",
   "metadata": {},
   "source": [
    "Salvando map_consultas_relevancias como .json"
   ]
  },
  {
   "cell_type": "code",
   "execution_count": 94,
   "id": "240c039b",
   "metadata": {},
   "outputs": [],
   "source": [
    "with open('map_consultas_relevancias.json', 'w', encoding='utf-8') as out_file_opened:\n",
    "    json.dump(\n",
    "        map_consultas_relevancias, # Dicionário de relevâncias processadas\n",
    "        out_file_opened,           # Objeto do arquivo\n",
    "        indent=2,                  # Indentação para melhorar legibilidade\n",
    "        ensure_ascii=False         # Permite caracteres não-ASCII\n",
    "    )"
   ]
  }
 ],
 "metadata": {
  "kernelspec": {
   "display_name": "projeto_final_ri",
   "language": "python",
   "name": "python3"
  },
  "language_info": {
   "codemirror_mode": {
    "name": "ipython",
    "version": 3
   },
   "file_extension": ".py",
   "mimetype": "text/x-python",
   "name": "python",
   "nbconvert_exporter": "python",
   "pygments_lexer": "ipython3",
   "version": "3.12.8"
  }
 },
 "nbformat": 4,
 "nbformat_minor": 5
}
