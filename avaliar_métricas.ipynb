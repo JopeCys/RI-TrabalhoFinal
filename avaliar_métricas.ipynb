{
 "cells": [
  {
   "cell_type": "markdown",
   "id": "1203123e",
   "metadata": {},
   "source": [
    "Imports"
   ]
  },
  {
   "cell_type": "code",
<<<<<<< HEAD
   "execution_count": 388,
=======
   "execution_count": 113,
>>>>>>> d53f647f9797cf684035e8b9e2aa4e2d1aea650a
   "id": "ca316c5f",
   "metadata": {},
   "outputs": [],
   "source": [
    "import sys\n",
    "import logging\n",
    "import json"
   ]
  },
  {
   "cell_type": "markdown",
   "id": "91026cd0",
   "metadata": {},
   "source": [
    "Carregar variáveis globais"
   ]
  },
  {
   "cell_type": "code",
<<<<<<< HEAD
   "execution_count": 389,
=======
   "execution_count": 114,
>>>>>>> d53f647f9797cf684035e8b9e2aa4e2d1aea650a
   "id": "73a35b47",
   "metadata": {},
   "outputs": [],
   "source": [
    "%store -r id_consulta"
   ]
  },
  {
   "cell_type": "markdown",
   "id": "ffa5eec1",
   "metadata": {},
   "source": [
    "Configurando LOGGER"
   ]
  },
  {
   "cell_type": "code",
<<<<<<< HEAD
   "execution_count": 390,
=======
   "execution_count": 115,
>>>>>>> d53f647f9797cf684035e8b9e2aa4e2d1aea650a
   "id": "68a7393a",
   "metadata": {},
   "outputs": [],
   "source": [
    "logging.basicConfig(level=logging.INFO, stream=sys.stdout,\n",
    "                    format='[%(asctime)s]%(levelname)s(%(name)s): %(message)s')\n",
    "LOGGER = logging.getLogger(__name__)"
   ]
  },
  {
   "cell_type": "markdown",
   "id": "0431449b",
   "metadata": {},
   "source": [
    "Carregando .jsons"
   ]
  },
  {
   "cell_type": "code",
<<<<<<< HEAD
   "execution_count": 391,
=======
   "execution_count": null,
>>>>>>> d53f647f9797cf684035e8b9e2aa4e2d1aea650a
   "id": "99f43b49",
   "metadata": {},
   "outputs": [],
   "source": [
    "with open('map_consultas_relevancias.json', 'r', encoding='utf-8') as f:\n",
    "    map_consultas_relevancias = json.load(f)\n",
    "\n",
    "with open('resultados_bm25.json', 'r', encoding='utf-8') as f:\n",
    "    resultados_bm25 = json.load(f)\n",
    "\n",
    "with open('resultados_vetorial.json', 'r', encoding='utf-8') as f:\n",
<<<<<<< HEAD
    "    resultados_tfidf = json.load(f)"
=======
    "    resultados_tfidf = json.load(f)\n",
    "\n",
    "with open('resultados_sorl.json', 'r', encoding='utf-8') as f:\n",
    "    resultados_sorl = json.load(f)"
>>>>>>> d53f647f9797cf684035e8b9e2aa4e2d1aea650a
   ]
  },
  {
   "cell_type": "code",
<<<<<<< HEAD
   "execution_count": 392,
=======
   "execution_count": 117,
>>>>>>> d53f647f9797cf684035e8b9e2aa4e2d1aea650a
   "id": "7e3a83e3",
   "metadata": {},
   "outputs": [],
   "source": [
    "def obter_documentos_relevantes_verdadeiros(id_consulta, mapa_relevancias_completo):\n",
    "    # 1. Acessa o dicionário de relevâncias para a consulta específica\n",
    "    # O uso de .get() evita erros se o ID não existir\n",
    "    relevancias_da_consulta = mapa_relevancias_completo.get(str(id_consulta))\n",
    "\n",
    "    # 2. Se a consulta não existir no mapa, retorna uma lista vazia\n",
    "    if not relevancias_da_consulta:\n",
    "        return []\n",
    "\n",
    "    # 3. Cria uma lista apenas com os IDs dos documentos cujo score é 1 ou 2\n",
    "    documentos_relevantes = [\n",
    "        doc_id\n",
    "        for doc_id, score in relevancias_da_consulta.items()\n",
    "        if score in [1, 2]\n",
    "    ]\n",
    "    \n",
    "    # 4. Retorna a lista de documentos relevantes encontrados\n",
    "    return documentos_relevantes"
   ]
  },
  {
   "cell_type": "markdown",
   "id": "083d6e96",
   "metadata": {},
   "source": [
    "Verificar e retornar correspondência entre consultas relevância e resultados"
   ]
  },
  {
   "cell_type": "code",
<<<<<<< HEAD
   "execution_count": 393,
=======
   "execution_count": 118,
>>>>>>> d53f647f9797cf684035e8b9e2aa4e2d1aea650a
   "id": "5f6e8dca",
   "metadata": {},
   "outputs": [],
   "source": [
    "def retornar_correspondencia(resultados_modelo, map_consultas_relevancias):\n",
    "    # 1. Obtém os documentos relevantes verdadeiros\n",
    "    documentos_relevantes_verdadeiros_raw = obter_documentos_relevantes_verdadeiros(id_consulta, map_consultas_relevancias)\n",
    "\n",
<<<<<<< HEAD
    "    LOGGER.info(f\"Documentos Relevantes Verdadeiros: {len(documentos_relevantes_verdadeiros_raw)} encontrados\")\n",
    "    \n",
    "    # 2. Padroniza os dois conjuntos de dados para string e remove espaços\n",
    "    #    A função map() aplica uma função (neste caso, str e strip) a cada item da lista.\n",
    "    \n",
=======
    "    # 2. Padroniza os dois conjuntos de dados para string e remove espaços\n",
>>>>>>> d53f647f9797cf684035e8b9e2aa4e2d1aea650a
    "    # Padroniza os resultados do modelo\n",
    "    set_resultados_modelo = {str(item).strip() for item in resultados_modelo}\n",
    "    \n",
    "    # Padroniza os documentos relevantes\n",
    "    set_documentos_relevantes = {str(item).strip() for item in documentos_relevantes_verdadeiros_raw}\n",
    "\n",
    "    # 3. Encontra a intersecção entre os dois conjuntos agora padronizados\n",
    "    correspondencias = set_resultados_modelo.intersection(set_documentos_relevantes)\n",
    "\n",
    "    # 4. Retorna a lista de correspondências (acertos)\n",
    "    return list(correspondencias)"
   ]
  },
  {
   "cell_type": "markdown",
   "id": "01aec943",
   "metadata": {},
   "source": [
    "BM25 - Precision, Recall e F1"
   ]
  },
  {
   "cell_type": "code",
<<<<<<< HEAD
   "execution_count": 394,
=======
   "execution_count": null,
>>>>>>> d53f647f9797cf684035e8b9e2aa4e2d1aea650a
   "id": "0e2c6a88",
   "metadata": {},
   "outputs": [
    {
     "name": "stdout",
     "output_type": "stream",
     "text": [
<<<<<<< HEAD
      "[2025-07-22 08:19:08,458]INFO(__main__): Documentos Relevantes Verdadeiros: 103 encontrados\n",
      "[2025-07-22 08:19:08,459]INFO(__main__): Acertos BM25: 13.0000\n",
      "[2025-07-22 08:19:08,459]INFO(__main__): Precisão BM25: 0.2600\n"
=======
      "[2025-07-22 08:46:04,871]INFO(__main__): Acertos BM25: 6\n",
      "[2025-07-22 08:46:04,872]INFO(__main__): Documentos Relevantes Verdadeiros BM25: 133 encontrados\n",
      "[2025-07-22 08:46:04,873]INFO(__main__): Precisão BM25: 12.0 %\n",
      "[2025-07-22 08:46:04,875]INFO(__main__): Recall BM25: 4.511278195488721 %\n",
      "[2025-07-22 08:46:04,875]INFO(__main__): F1 Score BM25: 6.557377049180327 %\n"
>>>>>>> d53f647f9797cf684035e8b9e2aa4e2d1aea650a
     ]
    }
   ],
   "source": [
<<<<<<< HEAD
    "# Calculando acertos\n",
    "bm25_acertos = retornar_correspondencia(resultados_bm25, map_consultas_relevancias)\n",
    "\n",
    "# Calcular Precision\n",
    "precision_bm25 = len(bm25_acertos) / len(resultados_bm25)\n",
    "\n",
    "LOGGER.info(f\"Acertos BM25: {len(bm25_acertos):.4f}\")\n",
    "\n",
    "LOGGER.info(f\"Precisão BM25: {precision_bm25:.4f}\")"
=======
    "# Calcula Documentos relevantes verdadeiros\n",
    "documentos_relevantes_verdadeiros = len(obter_documentos_relevantes_verdadeiros(id_consulta, map_consultas_relevancias))\n",
    "LOGGER.info(f\"Documentos Relevantes Verdadeiros: {documentos_relevantes_verdadeiros} encontrados\")\n",
    "\n",
    "# Calcula acertos\n",
    "bm25_acertos = len(retornar_correspondencia(resultados_bm25, map_consultas_relevancias))\n",
    "LOGGER.info(f\"Acertos BM25: {bm25_acertos}\")\n",
    "\n",
    "# Calcula Precision\n",
    "precision_bm25 = bm25_acertos / len(resultados_bm25) * 100 if len(resultados_bm25) > 0 else 0\n",
    "LOGGER.info(f\"Precisão BM25: {precision_bm25} %\")\n",
    "\n",
    "# Calcula Recall\n",
    "recall_bm25 = bm25_acertos / documentos_relevantes_verdadeiros * 100 if documentos_relevantes_verdadeiros > 0 else 0\n",
    "LOGGER.info(f\"Recall BM25: {recall_bm25} %\")\n",
    "\n",
    "# Calcula F1 Score\n",
    "f1_bm25 = 2 * (precision_bm25 * recall_bm25) / (precision_bm25 + recall_bm25) if (precision_bm25 + recall_bm25) > 0 else 0\n",
    "LOGGER.info(f\"F1 Score BM25: {f1_bm25} %\")  "
   ]
  },
  {
   "cell_type": "markdown",
   "id": "6c9adfb8",
   "metadata": {},
   "source": [
    "TD-IDF - Precision, Recall e F1"
   ]
  },
  {
   "cell_type": "code",
   "execution_count": null,
   "id": "9c1a3b8f",
   "metadata": {},
   "outputs": [],
   "source": [
    "\n",
    "# Calcula Documentos relevantes verdadeiros\n",
    "documentos_relevantes_verdadeiros = len(obter_documentos_relevantes_verdadeiros(id_consulta, map_consultas_relevancias))\n",
    "LOGGER.info(f\"Documentos Relevantes Verdadeiros: {documentos_relevantes_verdadeiros} encontrados\")\n",
    "\n",
    "# Calcula acertos\n",
    "tfidf_acertos = len(retornar_correspondencia(resultados_tfidf, map_consultas_relevancias))\n",
    "LOGGER.info(f\"Acertos TFIDF: {tfidf_acertos}\")\n",
    "\n",
    "# Calcula Precision\n",
    "precision_tfidf = tfidf_acertos / len(resultados_tfidf) * 100 if len(resultados_tfidf) > 0 else 0\n",
    "LOGGER.info(f\"Precisão TFIDF: {precision_tfidf} %\")\n",
    "\n",
    "# Calcula Recall\n",
    "recall_tfidf = tfidf_acertos / documentos_relevantes_verdadeiros * 100 if documentos_relevantes_verdadeiros > 0 else 0\n",
    "LOGGER.info(f\"Recall TFIDF: {recall_tfidf} %\")\n",
    "\n",
    "# Calcula F1 Score\n",
    "f1_tfidf = 2 * (precision_tfidf * recall_tfidf) / (precision_tfidf + recall_tfidf) if (precision_tfidf + recall_tfidf) > 0 else 0\n",
    "LOGGER.info(f\"F1 Score TFIDF: {f1_tfidf} %\")"
   ]
  },
  {
   "cell_type": "markdown",
   "id": "0aa3eaaa",
   "metadata": {},
   "source": [
    "Sorl - Precision, Recall e F1"
   ]
  },
  {
   "cell_type": "code",
   "execution_count": null,
   "id": "e7f08c3d",
   "metadata": {},
   "outputs": [],
   "source": [
    "# Calcula Documentos relevantes verdadeiros\n",
    "documentos_relevantes_verdadeiros = len(obter_documentos_relevantes_verdadeiros(id_consulta, map_consultas_relevancias))\n",
    "LOGGER.info(f\"Documentos Relevantes Verdadeiros SORL: {documentos_relevantes_verdadeiros} encontrados\")\n",
    "\n",
    "# Calcula acertos\n",
    "sorl_acertos = len(retornar_correspondencia(resultados_sorl, map_consultas_relevancias))\n",
    "LOGGER.info(f\"Acertos SORL: {sorl_acertos}\")\n",
    "\n",
    "# Calcula Precision\n",
    "precision_sorl = sorl_acertos / len(resultados_sorl) * 100 if len(resultados_sorl) > 0 else 0\n",
    "LOGGER.info(f\"Precisão SORL: {precision_sorl} %\")\n",
    "\n",
    "# Calcula Recall\n",
    "recall_sorl = sorl_acertos / documentos_relevantes_verdadeiros * 100 if documentos_relevantes_verdadeiros > 0 else 0\n",
    "LOGGER.info(f\"Recall SORL: {recall_sorl} %\")\n",
    "\n",
    "# Calcula F1 Score\n",
    "f1_sorl = 2 * (precision_sorl * recall_sorl) / (precision_sorl + recall_sorl) if (precision_sorl + recall_sorl) > 0 else 0\n",
    "LOGGER.info(f\"F1 Score SORL: {f1_sorl} %\")"
>>>>>>> d53f647f9797cf684035e8b9e2aa4e2d1aea650a
   ]
  }
 ],
 "metadata": {
  "kernelspec": {
   "display_name": "projeto_final_ri",
   "language": "python",
   "name": "python3"
  },
  "language_info": {
   "codemirror_mode": {
    "name": "ipython",
    "version": 3
   },
   "file_extension": ".py",
   "mimetype": "text/x-python",
   "name": "python",
   "nbconvert_exporter": "python",
   "pygments_lexer": "ipython3",
   "version": "3.12.8"
  }
 },
 "nbformat": 4,
 "nbformat_minor": 5
}
