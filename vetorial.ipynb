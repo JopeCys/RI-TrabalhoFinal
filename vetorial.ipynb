{
 "cells": [
  {
   "cell_type": "markdown",
   "id": "2ce8c367",
   "metadata": {},
   "source": [
    "Imports"
   ]
  },
  {
   "cell_type": "code",
   "execution_count": 231,
   "id": "b9a421e5",
   "metadata": {},
   "outputs": [],
   "source": [
    "import json\n",
    "import numpy as np\n",
    "from gensim import corpora, models, similarities\n",
    "from nltk.tokenize import word_tokenize\n",
    "import nltk\n",
    "import os\n",
    "import shutil\n",
    "import logging"
   ]
  },
  {
   "cell_type": "markdown",
   "id": "d7cf5522",
   "metadata": {},
   "source": [
    "Carregar variáveis globais"
   ]
  },
  {
   "cell_type": "code",
   "execution_count": 232,
   "id": "06ea0444",
   "metadata": {},
   "outputs": [],
   "source": [
    "%store -r id_consulta"
   ]
  },
  {
   "cell_type": "markdown",
   "id": "0604ce98",
   "metadata": {},
   "source": [
    "Configuração do Logger"
   ]
  },
  {
   "cell_type": "code",
   "execution_count": 233,
   "id": "d2823b56",
   "metadata": {},
   "outputs": [],
   "source": [
    "logging.basicConfig(\n",
    "    level=logging.INFO,\n",
    "    format='%(asctime)s - %(levelname)s - %(message)s',\n",
    "    datefmt='%Y-%m-%d %H:%M:%S'\n",
    ")"
   ]
  },
  {
   "cell_type": "markdown",
   "id": "7e0e5fa6",
   "metadata": {},
   "source": [
    "Carregando .jsons"
   ]
  },
  {
   "cell_type": "code",
   "execution_count": 234,
   "id": "dcd859a2",
   "metadata": {},
   "outputs": [],
   "source": [
    "with open('map_documentos.json', 'r', encoding='utf-8') as f:\n",
    "    map_documentos = json.load(f)\n",
    "with open('map_consultas.json', 'r', encoding='utf-8') as f:\n",
    "    map_consultas = json.load(f)"
   ]
  },
  {
   "cell_type": "markdown",
   "id": "9e4dbe45",
   "metadata": {},
   "source": [
    "Download de dependências do NLTK\n",
    "   "
   ]
  },
  {
   "cell_type": "code",
   "execution_count": 235,
   "id": "204c6c2d",
   "metadata": {},
   "outputs": [],
   "source": [
    "try:\n",
    "    nltk.data.find('tokenizers/punkt')\n",
    "except nltk.downloader.DownloadError:\n",
    "    nltk.download('punkt')"
   ]
  },
  {
   "cell_type": "markdown",
   "id": "8c557246",
   "metadata": {},
   "source": [
    "Indexar o map_documentos com Vetorial (TF-IDF)"
   ]
  },
  {
   "cell_type": "code",
   "execution_count": 236,
   "id": "aebf068f",
   "metadata": {},
   "outputs": [],
   "source": [
    "# Crie uma lista com os textos dos documentos. A ordem será preservada.\n",
    "lista_de_documentos = list(map_documentos.values())\n",
    "# Crie o corpus tokenizado a partir dessa lista\n",
    "corpus_tokenizado = [doc.lower().split(\" \") for doc in lista_de_documentos]\n",
    "# Guardar os IDs dos documentos na mesma ordem para mapeamento posterior\n",
    "ids_documentos = list(map_documentos.keys())"
   ]
  },
  {
   "cell_type": "markdown",
   "id": "bef26e3a",
   "metadata": {},
   "source": [
    "Construção do modelo Vetorial"
   ]
  },
  {
   "cell_type": "code",
   "execution_count": 237,
   "id": "0523b003",
   "metadata": {},
   "outputs": [
    {
     "name": "stderr",
     "output_type": "stream",
     "text": [
      "2025-07-22 11:15:17 - INFO - Indexando o corpus com o modelo Vetorial (TF-IDF)...\n",
      "2025-07-22 11:15:17 - INFO - adding document #0 to Dictionary<0 unique tokens: []>\n",
      "2025-07-22 11:15:17 - INFO - adding document #10000 to Dictionary<8953 unique tokens: ['ajepidem', 'environmental', 'epidemiology', 'john', 'snow']...>\n",
      "2025-07-22 11:15:17 - INFO - adding document #20000 to Dictionary<12182 unique tokens: ['ajepidem', 'environmental', 'epidemiology', 'john', 'snow']...>\n",
      "2025-07-22 11:15:17 - INFO - adding document #30000 to Dictionary<16741 unique tokens: ['ajepidem', 'environmental', 'epidemiology', 'john', 'snow']...>\n",
      "2025-07-22 11:15:17 - INFO - adding document #40000 to Dictionary<19925 unique tokens: ['ajepidem', 'environmental', 'epidemiology', 'john', 'snow']...>\n",
      "2025-07-22 11:15:17 - INFO - adding document #50000 to Dictionary<22221 unique tokens: ['ajepidem', 'environmental', 'epidemiology', 'john', 'snow']...>\n",
      "2025-07-22 11:15:17 - INFO - adding document #60000 to Dictionary<25505 unique tokens: ['ajepidem', 'environmental', 'epidemiology', 'john', 'snow']...>\n",
      "2025-07-22 11:15:18 - INFO - adding document #70000 to Dictionary<27839 unique tokens: ['ajepidem', 'environmental', 'epidemiology', 'john', 'snow']...>\n",
      "2025-07-22 11:15:18 - INFO - adding document #80000 to Dictionary<28564 unique tokens: ['ajepidem', 'environmental', 'epidemiology', 'john', 'snow']...>\n",
      "2025-07-22 11:15:18 - INFO - adding document #90000 to Dictionary<31049 unique tokens: ['ajepidem', 'environmental', 'epidemiology', 'john', 'snow']...>\n",
      "2025-07-22 11:15:18 - INFO - adding document #100000 to Dictionary<33145 unique tokens: ['ajepidem', 'environmental', 'epidemiology', 'john', 'snow']...>\n",
      "2025-07-22 11:15:18 - INFO - adding document #110000 to Dictionary<34903 unique tokens: ['ajepidem', 'environmental', 'epidemiology', 'john', 'snow']...>\n",
      "2025-07-22 11:15:18 - INFO - adding document #120000 to Dictionary<36260 unique tokens: ['ajepidem', 'environmental', 'epidemiology', 'john', 'snow']...>\n",
      "2025-07-22 11:15:18 - INFO - adding document #130000 to Dictionary<37415 unique tokens: ['ajepidem', 'environmental', 'epidemiology', 'john', 'snow']...>\n",
      "2025-07-22 11:15:18 - INFO - adding document #140000 to Dictionary<39071 unique tokens: ['ajepidem', 'environmental', 'epidemiology', 'john', 'snow']...>\n",
      "2025-07-22 11:15:19 - INFO - adding document #150000 to Dictionary<42428 unique tokens: ['ajepidem', 'environmental', 'epidemiology', 'john', 'snow']...>\n",
      "2025-07-22 11:15:19 - INFO - adding document #160000 to Dictionary<44373 unique tokens: ['ajepidem', 'environmental', 'epidemiology', 'john', 'snow']...>\n",
      "2025-07-22 11:15:19 - INFO - built Dictionary<44923 unique tokens: ['ajepidem', 'environmental', 'epidemiology', 'john', 'snow']...> from 162259 documents (total 1400387 corpus positions)\n",
      "2025-07-22 11:15:19 - INFO - Dictionary lifecycle event {'msg': \"built Dictionary<44923 unique tokens: ['ajepidem', 'environmental', 'epidemiology', 'john', 'snow']...> from 162259 documents (total 1400387 corpus positions)\", 'datetime': '2025-07-22T11:15:19.250745', 'gensim': '4.3.3', 'python': '3.12.8 | Intel Corporation | (main, Apr  2 2025, 09:07:08) [MSC v.1940 64 bit (AMD64)]', 'platform': 'Windows-11-10.0.26100-SP0', 'event': 'created'}\n",
      "2025-07-22 11:15:20 - INFO - collecting document frequencies\n",
      "2025-07-22 11:15:20 - INFO - PROGRESS: processing document #0\n",
      "2025-07-22 11:15:20 - INFO - PROGRESS: processing document #10000\n",
      "2025-07-22 11:15:20 - INFO - PROGRESS: processing document #20000\n",
      "2025-07-22 11:15:20 - INFO - PROGRESS: processing document #30000\n",
      "2025-07-22 11:15:20 - INFO - PROGRESS: processing document #40000\n",
      "2025-07-22 11:15:20 - INFO - PROGRESS: processing document #50000\n",
      "2025-07-22 11:15:20 - INFO - PROGRESS: processing document #60000\n",
      "2025-07-22 11:15:20 - INFO - PROGRESS: processing document #70000\n",
      "2025-07-22 11:15:20 - INFO - PROGRESS: processing document #80000\n",
      "2025-07-22 11:15:20 - INFO - PROGRESS: processing document #90000\n",
      "2025-07-22 11:15:20 - INFO - PROGRESS: processing document #100000\n",
      "2025-07-22 11:15:20 - INFO - PROGRESS: processing document #110000\n",
      "2025-07-22 11:15:20 - INFO - PROGRESS: processing document #120000\n",
      "2025-07-22 11:15:20 - INFO - PROGRESS: processing document #130000\n",
      "2025-07-22 11:15:20 - INFO - PROGRESS: processing document #140000\n",
      "2025-07-22 11:15:20 - INFO - PROGRESS: processing document #150000\n",
      "2025-07-22 11:15:20 - INFO - PROGRESS: processing document #160000\n",
      "2025-07-22 11:15:20 - INFO - TfidfModel lifecycle event {'msg': 'calculated IDF weights for 162259 documents and 44923 features (1374738 matrix non-zeros)', 'datetime': '2025-07-22T11:15:20.762454', 'gensim': '4.3.3', 'python': '3.12.8 | Intel Corporation | (main, Apr  2 2025, 09:07:08) [MSC v.1940 64 bit (AMD64)]', 'platform': 'Windows-11-10.0.26100-SP0', 'event': 'initialize'}\n",
      "2025-07-22 11:15:20 - INFO - starting similarity index under ./temp_vetorial_index\\shard\n",
      "2025-07-22 11:15:21 - INFO - PROGRESS: fresh_shard size=10000\n",
      "2025-07-22 11:15:22 - INFO - PROGRESS: fresh_shard size=20000\n",
      "2025-07-22 11:15:23 - INFO - PROGRESS: fresh_shard size=30000\n",
      "2025-07-22 11:15:23 - INFO - creating sparse index\n",
      "2025-07-22 11:15:23 - INFO - creating sparse matrix from corpus\n",
      "2025-07-22 11:15:23 - INFO - PROGRESS: at document #0/32768\n",
      "2025-07-22 11:15:23 - INFO - PROGRESS: at document #10000/32768\n",
      "2025-07-22 11:15:23 - INFO - PROGRESS: at document #20000/32768\n",
      "2025-07-22 11:15:23 - INFO - PROGRESS: at document #30000/32768\n",
      "2025-07-22 11:15:23 - INFO - created <32768x44923 sparse matrix of type '<class 'numpy.float32'>'\n",
      "\twith 308100 stored elements in Compressed Sparse Row format>\n",
      "2025-07-22 11:15:23 - INFO - creating sparse shard #0\n",
      "2025-07-22 11:15:23 - INFO - saving index shard to ./temp_vetorial_index\\shard.0\n",
      "2025-07-22 11:15:23 - INFO - SparseMatrixSimilarity lifecycle event {'fname_or_handle': './temp_vetorial_index\\\\shard.0', 'separately': 'None', 'sep_limit': 10485760, 'ignore': frozenset(), 'datetime': '2025-07-22T11:15:23.946315', 'gensim': '4.3.3', 'python': '3.12.8 | Intel Corporation | (main, Apr  2 2025, 09:07:08) [MSC v.1940 64 bit (AMD64)]', 'platform': 'Windows-11-10.0.26100-SP0', 'event': 'saving'}\n",
      "2025-07-22 11:15:23 - INFO - saved ./temp_vetorial_index\\shard.0\n",
      "2025-07-22 11:15:23 - INFO - loading SparseMatrixSimilarity object from ./temp_vetorial_index\\shard.0\n",
      "2025-07-22 11:15:23 - INFO - SparseMatrixSimilarity lifecycle event {'fname': './temp_vetorial_index\\\\shard.0', 'datetime': '2025-07-22T11:15:23.974289', 'gensim': '4.3.3', 'python': '3.12.8 | Intel Corporation | (main, Apr  2 2025, 09:07:08) [MSC v.1940 64 bit (AMD64)]', 'platform': 'Windows-11-10.0.26100-SP0', 'event': 'loaded'}\n",
      "2025-07-22 11:15:23 - INFO - PROGRESS: fresh_shard size=0\n",
      "2025-07-22 11:15:24 - INFO - PROGRESS: fresh_shard size=10000\n",
      "2025-07-22 11:15:25 - INFO - PROGRESS: fresh_shard size=20000\n",
      "2025-07-22 11:15:25 - INFO - PROGRESS: fresh_shard size=30000\n",
      "2025-07-22 11:15:25 - INFO - creating sparse index\n",
      "2025-07-22 11:15:25 - INFO - creating sparse matrix from corpus\n",
      "2025-07-22 11:15:25 - INFO - PROGRESS: at document #0/32768\n",
      "2025-07-22 11:15:26 - INFO - PROGRESS: at document #10000/32768\n",
      "2025-07-22 11:15:26 - INFO - PROGRESS: at document #20000/32768\n",
      "2025-07-22 11:15:26 - INFO - PROGRESS: at document #30000/32768\n",
      "2025-07-22 11:15:26 - INFO - created <32768x44923 sparse matrix of type '<class 'numpy.float32'>'\n",
      "\twith 327694 stored elements in Compressed Sparse Row format>\n",
      "2025-07-22 11:15:26 - INFO - creating sparse shard #1\n",
      "2025-07-22 11:15:26 - INFO - saving index shard to ./temp_vetorial_index\\shard.1\n",
      "2025-07-22 11:15:26 - INFO - SparseMatrixSimilarity lifecycle event {'fname_or_handle': './temp_vetorial_index\\\\shard.1', 'separately': 'None', 'sep_limit': 10485760, 'ignore': frozenset(), 'datetime': '2025-07-22T11:15:26.321121', 'gensim': '4.3.3', 'python': '3.12.8 | Intel Corporation | (main, Apr  2 2025, 09:07:08) [MSC v.1940 64 bit (AMD64)]', 'platform': 'Windows-11-10.0.26100-SP0', 'event': 'saving'}\n",
      "2025-07-22 11:15:26 - INFO - saved ./temp_vetorial_index\\shard.1\n",
      "2025-07-22 11:15:26 - INFO - loading SparseMatrixSimilarity object from ./temp_vetorial_index\\shard.1\n",
      "2025-07-22 11:15:26 - INFO - SparseMatrixSimilarity lifecycle event {'fname': './temp_vetorial_index\\\\shard.1', 'datetime': '2025-07-22T11:15:26.349898', 'gensim': '4.3.3', 'python': '3.12.8 | Intel Corporation | (main, Apr  2 2025, 09:07:08) [MSC v.1940 64 bit (AMD64)]', 'platform': 'Windows-11-10.0.26100-SP0', 'event': 'loaded'}\n",
      "2025-07-22 11:15:26 - INFO - PROGRESS: fresh_shard size=0\n",
      "2025-07-22 11:15:26 - INFO - PROGRESS: fresh_shard size=10000\n",
      "2025-07-22 11:15:27 - INFO - PROGRESS: fresh_shard size=20000\n",
      "2025-07-22 11:15:28 - INFO - PROGRESS: fresh_shard size=30000\n",
      "2025-07-22 11:15:28 - INFO - creating sparse index\n",
      "2025-07-22 11:15:28 - INFO - creating sparse matrix from corpus\n",
      "2025-07-22 11:15:28 - INFO - PROGRESS: at document #0/32768\n",
      "2025-07-22 11:15:28 - INFO - PROGRESS: at document #10000/32768\n",
      "2025-07-22 11:15:28 - INFO - PROGRESS: at document #20000/32768\n",
      "2025-07-22 11:15:28 - INFO - PROGRESS: at document #30000/32768\n",
      "2025-07-22 11:15:28 - INFO - created <32768x44923 sparse matrix of type '<class 'numpy.float32'>'\n",
      "\twith 228785 stored elements in Compressed Sparse Row format>\n",
      "2025-07-22 11:15:28 - INFO - creating sparse shard #2\n",
      "2025-07-22 11:15:28 - INFO - saving index shard to ./temp_vetorial_index\\shard.2\n",
      "2025-07-22 11:15:28 - INFO - SparseMatrixSimilarity lifecycle event {'fname_or_handle': './temp_vetorial_index\\\\shard.2', 'separately': 'None', 'sep_limit': 10485760, 'ignore': frozenset(), 'datetime': '2025-07-22T11:15:28.627276', 'gensim': '4.3.3', 'python': '3.12.8 | Intel Corporation | (main, Apr  2 2025, 09:07:08) [MSC v.1940 64 bit (AMD64)]', 'platform': 'Windows-11-10.0.26100-SP0', 'event': 'saving'}\n",
      "2025-07-22 11:15:28 - INFO - saved ./temp_vetorial_index\\shard.2\n",
      "2025-07-22 11:15:28 - INFO - loading SparseMatrixSimilarity object from ./temp_vetorial_index\\shard.2\n",
      "2025-07-22 11:15:28 - INFO - SparseMatrixSimilarity lifecycle event {'fname': './temp_vetorial_index\\\\shard.2', 'datetime': '2025-07-22T11:15:28.666031', 'gensim': '4.3.3', 'python': '3.12.8 | Intel Corporation | (main, Apr  2 2025, 09:07:08) [MSC v.1940 64 bit (AMD64)]', 'platform': 'Windows-11-10.0.26100-SP0', 'event': 'loaded'}\n",
      "2025-07-22 11:15:28 - INFO - PROGRESS: fresh_shard size=0\n",
      "2025-07-22 11:15:29 - INFO - PROGRESS: fresh_shard size=10000\n",
      "2025-07-22 11:15:30 - INFO - PROGRESS: fresh_shard size=20000\n",
      "2025-07-22 11:15:30 - INFO - PROGRESS: fresh_shard size=30000\n",
      "2025-07-22 11:15:30 - INFO - creating sparse index\n",
      "2025-07-22 11:15:30 - INFO - creating sparse matrix from corpus\n",
      "2025-07-22 11:15:30 - INFO - PROGRESS: at document #0/32768\n",
      "2025-07-22 11:15:30 - INFO - PROGRESS: at document #10000/32768\n",
      "2025-07-22 11:15:31 - INFO - PROGRESS: at document #20000/32768\n",
      "2025-07-22 11:15:31 - INFO - PROGRESS: at document #30000/32768\n",
      "2025-07-22 11:15:31 - INFO - created <32768x44923 sparse matrix of type '<class 'numpy.float32'>'\n",
      "\twith 253951 stored elements in Compressed Sparse Row format>\n",
      "2025-07-22 11:15:31 - INFO - creating sparse shard #3\n",
      "2025-07-22 11:15:31 - INFO - saving index shard to ./temp_vetorial_index\\shard.3\n",
      "2025-07-22 11:15:31 - INFO - SparseMatrixSimilarity lifecycle event {'fname_or_handle': './temp_vetorial_index\\\\shard.3', 'separately': 'None', 'sep_limit': 10485760, 'ignore': frozenset(), 'datetime': '2025-07-22T11:15:31.140779', 'gensim': '4.3.3', 'python': '3.12.8 | Intel Corporation | (main, Apr  2 2025, 09:07:08) [MSC v.1940 64 bit (AMD64)]', 'platform': 'Windows-11-10.0.26100-SP0', 'event': 'saving'}\n",
      "2025-07-22 11:15:31 - INFO - saved ./temp_vetorial_index\\shard.3\n",
      "2025-07-22 11:15:31 - INFO - loading SparseMatrixSimilarity object from ./temp_vetorial_index\\shard.3\n",
      "2025-07-22 11:15:31 - INFO - SparseMatrixSimilarity lifecycle event {'fname': './temp_vetorial_index\\\\shard.3', 'datetime': '2025-07-22T11:15:31.180347', 'gensim': '4.3.3', 'python': '3.12.8 | Intel Corporation | (main, Apr  2 2025, 09:07:08) [MSC v.1940 64 bit (AMD64)]', 'platform': 'Windows-11-10.0.26100-SP0', 'event': 'loaded'}\n",
      "2025-07-22 11:15:31 - INFO - PROGRESS: fresh_shard size=0\n",
      "2025-07-22 11:15:31 - INFO - PROGRESS: fresh_shard size=10000\n",
      "2025-07-22 11:15:32 - INFO - PROGRESS: fresh_shard size=20000\n",
      "2025-07-22 11:15:33 - INFO - PROGRESS: fresh_shard size=30000\n"
     ]
    }
   ],
   "source": [
    "logging.info(\"Indexando o corpus com o modelo Vetorial (TF-IDF)...\")\n",
    "dictionary = corpora.Dictionary(corpus_tokenizado)\n",
    "bow_corpus = [dictionary.doc2bow(text) for text in corpus_tokenizado]\n",
    "tfidf_model = models.TfidfModel(bow_corpus)\n",
    "tfidf_corpus = tfidf_model[bow_corpus]\n",
    "\n",
    "# Usando 'similarities.Similarity' para eficiência de memória\n",
    "temp_folder = './temp_vetorial_index'\n",
    "if os.path.exists(temp_folder):\n",
    "    shutil.rmtree(temp_folder)\n",
    "os.makedirs(temp_folder)\n",
    "output_prefix = os.path.join(temp_folder, 'shard')\n",
    "index = similarities.Similarity(output_prefix, tfidf_corpus, num_features=len(dictionary))\n"
   ]
  },
  {
   "cell_type": "markdown",
   "id": "be4da96e",
   "metadata": {},
   "source": [
    "Função que retorna Top N documentos de uma consulta Vetorial"
   ]
  },
  {
   "cell_type": "code",
   "execution_count": 238,
   "id": "01b69aea",
   "metadata": {},
   "outputs": [],
   "source": [
    "def obter_top_n_ids_vetorial(consulta_tokenizada, n):\n",
    "    # 1. Converte a consulta para o espaço vetorial TF-IDF\n",
    "    query_bow = dictionary.doc2bow(consulta_tokenizada)\n",
    "    query_tfidf = tfidf_model[query_bow]\n",
    "\n",
    "    # 2. Calcula os scores (similaridades) para cada documento no corpus\n",
    "    doc_scores = index[query_tfidf]\n",
    "\n",
    "    # 3. Pega os índices dos scores em ordem decrescente de pontuação\n",
    "    top_n_indices = np.argsort(doc_scores)[::-1]\n",
    "\n",
    "    # 4. Retorna apenas os 'n' primeiros IDs da lista ordenada\n",
    "    # Pega o ID original da lista 'ids_documentos' e converte para inteiro\n",
    "    return [int(ids_documentos[idx]) for idx in top_n_indices[:n]]"
   ]
  },
  {
   "cell_type": "markdown",
   "id": "27c3c913",
   "metadata": {},
   "source": [
    "Executar consulta e gerar os resultados top 50"
   ]
  },
  {
   "cell_type": "code",
   "execution_count": null,
   "id": "e6445e54",
   "metadata": {},
   "outputs": [
    {
     "name": "stderr",
     "output_type": "stream",
     "text": [
      "2025-07-22 11:15:33 - INFO - creating sparse index\n",
      "2025-07-22 11:15:33 - INFO - creating sparse matrix from corpus\n"
     ]
    },
    {
     "name": "stderr",
     "output_type": "stream",
     "text": [
      "2025-07-22 11:15:33 - INFO - PROGRESS: at document #0/31187\n",
      "2025-07-22 11:15:33 - INFO - PROGRESS: at document #10000/31187\n",
      "2025-07-22 11:15:33 - INFO - PROGRESS: at document #20000/31187\n",
      "2025-07-22 11:15:33 - INFO - PROGRESS: at document #30000/31187\n",
      "2025-07-22 11:15:33 - INFO - created <31187x44923 sparse matrix of type '<class 'numpy.float32'>'\n",
      "\twith 256208 stored elements in Compressed Sparse Row format>\n",
      "2025-07-22 11:15:33 - INFO - creating sparse shard #4\n",
      "2025-07-22 11:15:33 - INFO - saving index shard to ./temp_vetorial_index\\shard.4\n",
      "2025-07-22 11:15:33 - INFO - SparseMatrixSimilarity lifecycle event {'fname_or_handle': './temp_vetorial_index\\\\shard.4', 'separately': 'None', 'sep_limit': 10485760, 'ignore': frozenset(), 'datetime': '2025-07-22T11:15:33.648308', 'gensim': '4.3.3', 'python': '3.12.8 | Intel Corporation | (main, Apr  2 2025, 09:07:08) [MSC v.1940 64 bit (AMD64)]', 'platform': 'Windows-11-10.0.26100-SP0', 'event': 'saving'}\n",
      "2025-07-22 11:15:33 - INFO - saved ./temp_vetorial_index\\shard.4\n",
      "2025-07-22 11:15:33 - INFO - loading SparseMatrixSimilarity object from ./temp_vetorial_index\\shard.4\n",
      "2025-07-22 11:15:33 - INFO - SparseMatrixSimilarity lifecycle event {'fname': './temp_vetorial_index\\\\shard.4', 'datetime': '2025-07-22T11:15:33.688230', 'gensim': '4.3.3', 'python': '3.12.8 | Intel Corporation | (main, Apr  2 2025, 09:07:08) [MSC v.1940 64 bit (AMD64)]', 'platform': 'Windows-11-10.0.26100-SP0', 'event': 'loaded'}\n"
     ]
    }
   ],
   "source": [
    "# Escolha uma consulta para testar\n",
    "consulta_texto = map_consultas[id_consulta]\n",
    "consulta_tokenizada = consulta_texto.lower().split(\" \")\n",
    "# Chame a função, que retornará os IDs dos documentos mais relevantes.\n",
    "resultados_vetorial = obter_top_n_ids_vetorial(consulta_tokenizada, n=100)"
   ]
  },
  {
   "cell_type": "markdown",
   "id": "8cf5816c",
   "metadata": {},
   "source": [
    "Salvando resultados_vetorial como .json"
   ]
  },
  {
   "cell_type": "code",
   "execution_count": 240,
   "id": "6313f99e",
   "metadata": {},
   "outputs": [
    {
     "name": "stderr",
     "output_type": "stream",
     "text": [
      "2025-07-22 11:15:33 - INFO - Salvando resultados em 'resultados_tfidf.json'...\n",
      "2025-07-22 11:15:33 - INFO - Arquivo de resultados salvo com sucesso!\n"
     ]
    }
   ],
   "source": [
    "nome_arquivo_saida = 'resultados_tfidf.json'\n",
    "logging.info(f\"Salvando resultados em '{nome_arquivo_saida}'...\")\n",
    "try:\n",
    "    with open(nome_arquivo_saida, 'w', encoding='utf-8') as out_file_opened:\n",
    "        json.dump(\n",
    "            resultados_vetorial,    # Dados a serem salvos\n",
    "            out_file_opened,        # Objeto do arquivo\n",
    "            indent=2,               # Indentação para melhorar legibilidade\n",
    "            ensure_ascii=False      # Permite caracteres não-ASCII\n",
    "        )\n",
    "    logging.info(\"Arquivo de resultados salvo com sucesso!\")\n",
    "except Exception as e:\n",
    "    logging.error(f\"Erro ao salvar o arquivo JSON: {e}\")\n",
    "finally:\n",
    "    # Limpa a pasta temporária do índice\n",
    "    if os.path.exists(temp_folder):\n",
    "        shutil.rmtree(temp_folder)"
   ]
  }
 ],
 "metadata": {
  "kernelspec": {
   "display_name": "projeto_final_ri",
   "language": "python",
   "name": "python3"
  },
  "language_info": {
   "codemirror_mode": {
    "name": "ipython",
    "version": 3
   },
   "file_extension": ".py",
   "mimetype": "text/x-python",
   "name": "python",
   "nbconvert_exporter": "python",
   "pygments_lexer": "ipython3",
   "version": "3.12.8"
  }
 },
 "nbformat": 4,
 "nbformat_minor": 5
}
