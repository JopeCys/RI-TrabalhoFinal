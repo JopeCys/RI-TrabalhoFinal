{
 "cells": [
  {
   "cell_type": "markdown",
   "id": "b9ac610f",
   "metadata": {},
   "source": [
    "Importação das Bibliotecas"
   ]
  },
  {
   "cell_type": "code",
   "execution_count": 95,
   "id": "9155a332",
   "metadata": {},
   "outputs": [],
   "source": [
    "import pysolr\n",
    "import json\n",
    "import logging"
   ]
  },
  {
   "cell_type": "markdown",
   "id": "e0fe3d6c",
   "metadata": {},
   "source": [
    "Configuração do Logger"
   ]
  },
  {
   "cell_type": "code",
   "execution_count": 96,
   "id": "d559d56f",
   "metadata": {},
   "outputs": [],
   "source": [
    "logging.basicConfig(\n",
    "    level=logging.INFO,\n",
    "    format='%(asctime)s - %(levelname)s - %(message)s',\n",
    "    datefmt='%Y-%m-%d %H:%M:%S'\n",
    ")"
   ]
  },
  {
   "cell_type": "markdown",
   "id": "dc0dcc01",
   "metadata": {},
   "source": [
    "Carregando .jsons"
   ]
  },
  {
   "cell_type": "code",
   "execution_count": 97,
   "id": "ebd946b5",
   "metadata": {},
   "outputs": [],
   "source": [
    "with open('map_documentos.json', 'r', encoding='utf-8') as f:\n",
    "    map_documentos = json.load(f)\n",
    "with open('map_consultas.json', 'r', encoding='utf-8') as f:\n",
    "    map_consultas = json.load(f)"
   ]
  },
  {
   "cell_type": "markdown",
   "id": "3971d18b",
   "metadata": {},
   "source": [
    "Configuração da Conexão com o Solr"
   ]
  },
  {
   "cell_type": "code",
   "execution_count": 98,
   "id": "e5e8822f",
   "metadata": {},
   "outputs": [
    {
     "name": "stderr",
     "output_type": "stream",
     "text": [
      "2025-07-22 05:51:49 - INFO - Finished 'http://localhost:8983/solr/documentos_ri/admin/ping/?' (get) with body '' in 0.007 seconds, with status 200\n",
      "2025-07-22 05:51:49 - INFO - Conexão com o core 'documentos_ri' bem-sucedida!\n"
     ]
    },
    {
     "name": "stdout",
     "output_type": "stream",
     "text": [
      "Conectando ao Solr...\n"
     ]
    }
   ],
   "source": [
    "print(\"Conectando ao Solr...\")\n",
    "SOLR_URL_BASE = 'http://localhost:8983/solr/'\n",
    "SOLR_CORE_NAME = 'documentos_ri'\n",
    "SOLR_CONNECTION_STRING = f'{SOLR_URL_BASE}{SOLR_CORE_NAME}'\n",
    "\n",
    "try:\n",
    "    solr = pysolr.Solr(SOLR_CONNECTION_STRING, always_commit=True)\n",
    "    solr.ping()\n",
    "    logging.info(f\"Conexão com o core '{SOLR_CORE_NAME}' bem-sucedida!\")\n",
    "except Exception as e:\n",
    "    logging.error(\"Não foi possível conectar ao Solr. Verifique se o serviço está ativo.\")\n",
    "    logging.error(f\"Detalhe: {e}\")\n",
    "    exit()\n"
   ]
  },
  {
   "cell_type": "markdown",
   "id": "66958f4d",
   "metadata": {},
   "source": [
    "Função que retorna Top N documentos de uma consulta no Solr"
   ]
  },
  {
   "cell_type": "code",
   "execution_count": 99,
   "id": "347da676",
   "metadata": {},
   "outputs": [],
   "source": [
    "def obter_top_n_ids_solr(solr_client, texto_consulta, n=50):\n",
    "    try:\n",
    "        # 1. Constrói a string de busca a partir da consulta tokenizada\n",
    "        texto_consulta = \" \".join(consulta_tokenizada)\n",
    "        query_string = f'texto_documento:({texto_consulta})'\n",
    "        \n",
    "        # 2. Executa a busca no Solr, que já retorna os resultados ordenados por score\n",
    "        resultados_solr = solr_client.search(q=query_string, fl='id', rows=n)\n",
    "        \n",
    "        # 3. Retorna apenas os 'n' primeiros IDs da lista ordenada\n",
    "        return [int(resultado['id']) for resultado in resultados_solr]\n",
    "\n",
    "    except Exception as e:\n",
    "            logging.error(f\"Erro ao buscar a consulta '{texto_consulta[:30]}...': {e}\")\n",
    "            return [] # Retorna lista vazia em caso de erro na busca\n"
   ]
  },
  {
   "cell_type": "markdown",
   "id": "a3a24d49",
   "metadata": {},
   "source": [
    "Executar consulta e gerar os resultados top 50"
   ]
  },
  {
   "cell_type": "code",
   "execution_count": 100,
   "id": "cc58e7a4",
   "metadata": {},
   "outputs": [
    {
     "name": "stderr",
     "output_type": "stream",
     "text": [
      "2025-07-22 05:51:49 - INFO - Executando consulta de exemplo...\n",
      "2025-07-22 05:51:49 - INFO - Texto da consulta (ID: 182): 'mutations sonic hedgehog genes affect developmental disorders'\n",
      "2025-07-22 05:51:49 - INFO - Finished 'http://localhost:8983/solr/documentos_ri/select/?q=texto_documento%3A%28mutations+sonic+hedgehog+genes+affect+developmental+disorders%29&fl=id&rows=50&wt=json' (get) with body '' in 0.007 seconds, with status 200\n",
      "2025-07-22 05:51:49 - INFO - Encontrados 50 resultados.\n"
     ]
    }
   ],
   "source": [
    "# Escolha uma consulta para testar\n",
    "logging.info(\"Executando consulta de exemplo...\")\n",
    "id_consulta_exemplo = \"182\"\n",
    "texto_consulta_exemplo = map_consultas[id_consulta_exemplo]\n",
    "\n",
    "logging.info(f\"Texto da consulta (ID: {id_consulta_exemplo}): '{texto_consulta_exemplo}'\")\n",
    "\n",
    "# Tokeniza a consulta\n",
    "consulta_tokenizada = texto_consulta_exemplo.lower().split()\n",
    "\n",
    "# Top 50 documentos mais relevantes para a consulta\n",
    "resultados_solr = obter_top_n_ids_solr(solr, consulta_tokenizada, n=50)\n",
    "\n",
    "logging.info(f\"Encontrados {len(resultados_solr)} resultados.\")\n"
   ]
  },
  {
   "cell_type": "markdown",
   "id": "0c5d31b1",
   "metadata": {},
   "source": [
    "Salvando resultados_solr como .json"
   ]
  },
  {
   "cell_type": "code",
   "execution_count": 101,
   "id": "9649fc22",
   "metadata": {},
   "outputs": [
    {
     "name": "stderr",
     "output_type": "stream",
     "text": [
      "2025-07-22 05:51:49 - INFO - Arquivo de resultados do Solr salvo com sucesso!\n"
     ]
    }
   ],
   "source": [
    "try:\n",
    "    with open('resultados_solr.json', 'w', encoding='utf-8') as f:\n",
    "        json.dump(\n",
    "            resultados_solr,\n",
    "            f,\n",
    "            indent=2,\n",
    "            ensure_ascii=False\n",
    "        )\n",
    "    logging.info(\"Arquivo de resultados do Solr salvo com sucesso!\")\n",
    "except Exception as e:\n",
    "    logging.error(f\"ERRO ao salvar o arquivo JSON: {e}\")\n",
    "    "
   ]
  }
 ],
 "metadata": {
  "kernelspec": {
   "display_name": "projeto_final_ri",
   "language": "python",
   "name": "python3"
  },
  "language_info": {
   "codemirror_mode": {
    "name": "ipython",
    "version": 3
   },
   "file_extension": ".py",
   "mimetype": "text/x-python",
   "name": "python",
   "nbconvert_exporter": "python",
   "pygments_lexer": "ipython3",
   "version": "3.12.8"
  }
 },
 "nbformat": 4,
 "nbformat_minor": 5
}
