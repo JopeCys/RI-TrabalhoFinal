{
 "cells": [
  {
   "cell_type": "markdown",
   "id": "b9ac610f",
   "metadata": {},
   "source": [
    "Importação das Bibliotecas"
   ]
  },
  {
   "cell_type": "code",
   "execution_count": 77,
   "id": "9155a332",
   "metadata": {},
   "outputs": [],
   "source": [
    "import pysolr\n",
    "import json"
   ]
  },
  {
   "cell_type": "markdown",
   "id": "dc0dcc01",
   "metadata": {},
   "source": [
    "Carregando .jsons"
   ]
  },
  {
   "cell_type": "code",
   "execution_count": 78,
   "id": "ebd946b5",
   "metadata": {},
   "outputs": [],
   "source": [
    "with open('map_documentos.json', 'r', encoding='utf-8') as f:\n",
    "    map_documentos = json.load(f)\n",
    "with open('map_consultas.json', 'r', encoding='utf-8') as f:\n",
    "    map_consultas = json.load(f)"
   ]
  },
  {
   "cell_type": "markdown",
   "id": "3971d18b",
   "metadata": {},
   "source": [
    "Configuração da Conexão com o Solr"
   ]
  },
  {
   "cell_type": "code",
   "execution_count": 79,
   "id": "e5e8822f",
   "metadata": {},
   "outputs": [
    {
     "name": "stdout",
     "output_type": "stream",
     "text": [
      "Conectando ao Solr...\n",
      "Conexão com o core 'documentos_ri' bem-sucedida!\n"
     ]
    }
   ],
   "source": [
    "print(\"Conectando ao Solr...\")\n",
    "SOLR_URL_BASE = 'http://localhost:8983/solr/'\n",
    "SOLR_CORE_NAME = 'documentos_ri'\n",
    "SOLR_CONNECTION_STRING = f'{SOLR_URL_BASE}{SOLR_CORE_NAME}'\n",
    "\n",
    "try:\n",
    "    solr = pysolr.Solr(SOLR_CONNECTION_STRING, always_commit=True)\n",
    "    solr.ping()\n",
    "    print(f\"Conexão com o core '{SOLR_CORE_NAME}' bem-sucedida!\")\n",
    "except Exception as e:\n",
    "    print(f\"ERRO: Não foi possível conectar ao Solr. Verifique se o serviço está ativo.\")\n",
    "    print(f\"Detalhe: {e}\")\n",
    "    exit()\n"
   ]
  },
  {
   "cell_type": "markdown",
   "id": "66958f4d",
   "metadata": {},
   "source": [
    "Função que retorna Top N documentos de uma consulta no Solr"
   ]
  },
  {
   "cell_type": "code",
   "execution_count": null,
   "id": "347da676",
   "metadata": {},
   "outputs": [],
   "source": [
    "def obter_top_n_ids_solr(solr_client, texto_consulta, n=50):\n",
    "    # 1. Constrói a string de busca a partir da consulta tokenizada\n",
    "    texto_consulta = \" \".join(consulta_tokenizada)\n",
    "    query_string = f'texto_documento:({texto_consulta})'\n",
    "    \n",
    "    # 2. Executa a busca no Solr, que já retorna os resultados ordenados por score\n",
    "    resultados_solr = solr_client.search(q=query_string, fl='id', rows=n)\n",
    "    \n",
    "    # 3. Retorna apenas os 'n' primeiros IDs da lista ordenada\n",
    "    return [int(resultado['id']) for resultado in resultados_solr]\n"
   ]
  },
  {
   "cell_type": "markdown",
   "id": "a3a24d49",
   "metadata": {},
   "source": [
    "Executar consulta e gerar os resultados top 50"
   ]
  },
  {
   "cell_type": "code",
   "execution_count": 81,
   "id": "cc58e7a4",
   "metadata": {},
   "outputs": [
    {
     "name": "stdout",
     "output_type": "stream",
     "text": [
      "\n",
      "Executando consulta de exemplo...\n",
      "Texto da consulta (ID: 182): 'mutations sonic hedgehog genes affect developmental disorders'\n"
     ]
    },
    {
     "ename": "NameError",
     "evalue": "name 'obter_top_n_ids_solr' is not defined",
     "output_type": "error",
     "traceback": [
      "\u001b[31m---------------------------------------------------------------------------\u001b[39m",
      "\u001b[31mNameError\u001b[39m                                 Traceback (most recent call last)",
      "\u001b[36mCell\u001b[39m\u001b[36m \u001b[39m\u001b[32mIn[81]\u001b[39m\u001b[32m, line 12\u001b[39m\n\u001b[32m      9\u001b[39m consulta_tokenizada = texto_consulta_exemplo.lower().split()\n\u001b[32m     11\u001b[39m \u001b[38;5;66;03m# Top 50 documentos mais relevantes para a consulta\u001b[39;00m\n\u001b[32m---> \u001b[39m\u001b[32m12\u001b[39m resultados_solr = \u001b[43mobter_top_n_ids_solr\u001b[49m(solr, consulta_tokenizada, n=\u001b[32m50\u001b[39m)\n\u001b[32m     14\u001b[39m \u001b[38;5;28mprint\u001b[39m(\u001b[33mf\u001b[39m\u001b[33m\"\u001b[39m\u001b[38;5;130;01m\\n\u001b[39;00m\u001b[33mEncontrados \u001b[39m\u001b[38;5;132;01m{\u001b[39;00m\u001b[38;5;28mlen\u001b[39m(resultados_solr)\u001b[38;5;132;01m}\u001b[39;00m\u001b[33m resultados.\u001b[39m\u001b[33m\"\u001b[39m)\n",
      "\u001b[31mNameError\u001b[39m: name 'obter_top_n_ids_solr' is not defined"
     ]
    }
   ],
   "source": [
    "print(\"\\nExecutando consulta de exemplo...\")\n",
    "# Escolha uma consulta para testar\n",
    "id_consulta_exemplo = \"182\"\n",
    "texto_consulta_exemplo = map_consultas[id_consulta_exemplo]\n",
    "\n",
    "print(f\"Texto da consulta (ID: {id_consulta_exemplo}): '{texto_consulta_exemplo}'\")\n",
    "\n",
    "# Tokeniza a consulta\n",
    "consulta_tokenizada = texto_consulta_exemplo.lower().split()\n",
    "\n",
    "# Top 50 documentos mais relevantes para a consulta\n",
    "resultados_solr = obter_top_n_ids_solr(solr, consulta_tokenizada, n=50)\n",
    "\n",
    "print(f\"\\nEncontrados {len(resultados_solr)} resultados.\")"
   ]
  },
  {
   "cell_type": "markdown",
   "id": "0c5d31b1",
   "metadata": {},
   "source": [
    "Salvando resultados_solr como .json"
   ]
  },
  {
   "cell_type": "code",
   "execution_count": null,
   "id": "9649fc22",
   "metadata": {},
   "outputs": [
    {
     "name": "stdout",
     "output_type": "stream",
     "text": [
      "\n",
      "Salvando resultados em 'resultados_solr.json'...\n",
      "Arquivo de resultados do Solr salvo com sucesso!\n"
     ]
    }
   ],
   "source": [
    "nome_arquivo_saida = 'resultados_solr.json'\n",
    "print(f\"\\nSalvando resultados em '{nome_arquivo_saida}'...\")\n",
    "\n",
    "try:\n",
    "    with open(nome_arquivo_saida, 'w', encoding='utf-8') as f:\n",
    "        json.dump(\n",
    "            resultados_solr,\n",
    "            f,\n",
    "            indent=2,\n",
    "            ensure_ascii=False\n",
    "        )\n",
    "    print(\"Arquivo de resultados do Solr salvo com sucesso!\")\n",
    "except Exception as e:\n",
    "    print(f\"ERRO ao salvar o arquivo JSON: {e}\")"
   ]
  }
 ],
 "metadata": {
  "kernelspec": {
   "display_name": "projeto_final_ri",
   "language": "python",
   "name": "python3"
  },
  "language_info": {
   "codemirror_mode": {
    "name": "ipython",
    "version": 3
   },
   "file_extension": ".py",
   "mimetype": "text/x-python",
   "name": "python",
   "nbconvert_exporter": "python",
   "pygments_lexer": "ipython3",
   "version": "3.12.8"
  }
 },
 "nbformat": 4,
 "nbformat_minor": 5
}
