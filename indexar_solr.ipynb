{
 "cells": [
  {
   "cell_type": "markdown",
   "id": "5b0e11e0",
   "metadata": {},
   "source": [
    "Imports"
   ]
  },
  {
   "cell_type": "code",
   "execution_count": 6,
   "id": "2a009650",
   "metadata": {},
   "outputs": [],
   "source": [
    "import pysolr\n",
    "import json\n",
    "import logging"
   ]
  },
  {
   "cell_type": "markdown",
   "id": "45a1ebc5",
   "metadata": {},
   "source": [
    "Configuração do Logger"
   ]
  },
  {
   "cell_type": "code",
   "execution_count": 7,
   "id": "9f06bff1",
   "metadata": {},
   "outputs": [],
   "source": [
    "logging.basicConfig(level=logging.INFO, format='%(asctime)s - %(levelname)s - %(message)s')\n"
   ]
  },
  {
   "cell_type": "markdown",
   "id": "a595b6be",
   "metadata": {},
   "source": [
    "Conexão com o Solr"
   ]
  },
  {
   "cell_type": "code",
   "execution_count": 8,
   "id": "ef14a2f1",
   "metadata": {},
   "outputs": [
    {
     "name": "stderr",
     "output_type": "stream",
     "text": [
      "2025-07-22 09:39:49,654 - INFO - Conectando ao Solr...\n",
      "2025-07-22 09:39:49,664 - INFO - Finished 'http://localhost:8983/solr/documentos_ri/admin/ping/?' (get) with body '' in 0.007 seconds, with status 200\n",
      "2025-07-22 09:39:49,664 - INFO - Conexão com o core 'documentos_ri' bem-sucedida!\n"
     ]
    }
   ],
   "source": [
    "logging.info(\"Conectando ao Solr...\")\n",
    "SOLR_URL_BASE = 'http://localhost:8983/solr/'\n",
    "SOLR_CORE_NAME = 'documentos_ri' # Certifique-se que o nome do core está correto\n",
    "SOLR_CONNECTION_STRING = f'{SOLR_URL_BASE}{SOLR_CORE_NAME}'\n",
    "\n",
    "try:\n",
    "    solr = pysolr.Solr(SOLR_CONNECTION_STRING, always_commit=True)\n",
    "    solr.ping()\n",
    "    logging.info(f\"Conexão com o core '{SOLR_CORE_NAME}' bem-sucedida!\")\n",
    "except Exception as e:\n",
    "    logging.error(f\"Não foi possível conectar ao Solr. Verifique se o serviço está ativo. Detalhe: {e}\")\n",
    "    exit()"
   ]
  },
  {
   "cell_type": "markdown",
   "id": "171670bf",
   "metadata": {},
   "source": [
    "Carregamento dos Documentos"
   ]
  },
  {
   "cell_type": "code",
   "execution_count": 9,
   "id": "b789f288",
   "metadata": {},
   "outputs": [
    {
     "name": "stderr",
     "output_type": "stream",
     "text": [
      "2025-07-22 09:39:49,682 - INFO - Carregando o arquivo 'map_documentos.json'...\n",
      "2025-07-22 09:39:49,818 - INFO - Foram carregados 162259 documentos.\n"
     ]
    }
   ],
   "source": [
    "logging.info(\"Carregando o arquivo 'map_documentos.json'...\")\n",
    "try:\n",
    "    with open('map_documentos.json', 'r', encoding='utf-8') as f:\n",
    "        map_docs = json.load(f)\n",
    "    logging.info(f\"Foram carregados {len(map_docs)} documentos.\")\n",
    "except FileNotFoundError:\n",
    "    logging.error(\"Arquivo 'map_documentos.json' não encontrado. Abortando.\")\n",
    "    exit()"
   ]
  },
  {
   "cell_type": "markdown",
   "id": "4fa436e9",
   "metadata": {},
   "source": [
    "Processo de Indexação"
   ]
  },
  {
   "cell_type": "code",
   "execution_count": 10,
   "id": "eafbac1d",
   "metadata": {},
   "outputs": [
    {
     "name": "stderr",
     "output_type": "stream",
     "text": [
      "2025-07-22 09:39:49,831 - INFO - Iniciando o processo de indexação...\n",
      "2025-07-22 09:39:49,832 - INFO - Limpando documentos antigos do core...\n",
      "2025-07-22 09:39:49,876 - INFO - Finished 'http://localhost:8983/solr/documentos_ri/update/?commit=true' (post) with body '<delete><q' in 0.043 seconds, with status 200\n",
      "2025-07-22 09:39:49,877 - INFO - Core limpo.\n",
      "2025-07-22 09:39:49,937 - INFO - Enviando 162259 documentos para indexação...\n",
      "2025-07-22 09:39:53,971 - INFO - Finished 'http://localhost:8983/solr/documentos_ri/update/?commit=true' (post) with body '[{\"id\": \"0' in 3.741 seconds, with status 200\n",
      "2025-07-22 09:39:53,975 - INFO - Indexação concluída com sucesso!\n"
     ]
    }
   ],
   "source": [
    "logging.info(\"Iniciando o processo de indexação...\")\n",
    "\n",
    "# 1. Limpa todos os documentos existentes no core para evitar duplicatas\n",
    "logging.info(\"Limpando documentos antigos do core...\")\n",
    "solr.delete(q='*:*')\n",
    "logging.info(\"Core limpo.\")\n",
    "\n",
    "# 2. Formata os documentos para o formato que o Solr espera\n",
    "# O campo 'id' é o ID do documento e 'texto_documento' é o conteúdo.\n",
    "# IMPORTANTE: O schema do Solr deve ter um campo chamado 'texto_documento'.\n",
    "documentos_para_indexar = []\n",
    "for doc_id, texto in map_docs.items():\n",
    "    documentos_para_indexar.append({\n",
    "        \"id\": doc_id,\n",
    "        \"texto_documento\": texto\n",
    "    })\n",
    "\n",
    "# 3. Envia os documentos para o Solr indexar em lotes (mais eficiente)\n",
    "logging.info(f\"Enviando {len(documentos_para_indexar)} documentos para indexação...\")\n",
    "try:\n",
    "    solr.add(documentos_para_indexar, commit=True)\n",
    "    logging.info(\"Indexação concluída com sucesso!\")\n",
    "except Exception as e:\n",
    "    logging.error(f\"ERRO durante a indexação: {e}\")\n",
    "    logging.error(\"Verifique o schema do Solr e se os campos (ex: 'id', 'texto_documento') existem.\")"
   ]
  }
 ],
 "metadata": {
  "kernelspec": {
   "display_name": "projeto_final_ri",
   "language": "python",
   "name": "python3"
  },
  "language_info": {
   "codemirror_mode": {
    "name": "ipython",
    "version": 3
   },
   "file_extension": ".py",
   "mimetype": "text/x-python",
   "name": "python",
   "nbconvert_exporter": "python",
   "pygments_lexer": "ipython3",
   "version": "3.12.8"
  }
 },
 "nbformat": 4,
 "nbformat_minor": 5
}
